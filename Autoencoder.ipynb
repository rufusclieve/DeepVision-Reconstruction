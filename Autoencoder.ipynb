{
  "nbformat": 4,
  "nbformat_minor": 0,
  "metadata": {
    "colab": {
      "provenance": [],
      "gpuType": "T4",
      "mount_file_id": "1cSo9Xp3HcXHjjaZDbGm_c1-U1NdXa4ow",
      "authorship_tag": "ABX9TyNnPCwaRlYNok9qARSykvzr",
      "include_colab_link": true
    },
    "kernelspec": {
      "name": "python3",
      "display_name": "Python 3"
    },
    "language_info": {
      "name": "python"
    },
    "accelerator": "GPU"
  },
  "cells": [
    {
      "cell_type": "markdown",
      "metadata": {
        "id": "view-in-github",
        "colab_type": "text"
      },
      "source": [
        "<a href=\"https://colab.research.google.com/github/rufusclieve/DeepVision-Reconstruction/blob/main/Autoencoder.ipynb\" target=\"_parent\"><img src=\"https://colab.research.google.com/assets/colab-badge.svg\" alt=\"Open In Colab\"/></a>"
      ]
    },
    {
      "cell_type": "markdown",
      "source": [
        "# **Training an Autoencoder and Classifier for Image Pixelation Detection and Classification**"
      ],
      "metadata": {
        "id": "UkN-AAtU-iSv"
      }
    },
    {
      "cell_type": "code",
      "source": [
        "import tensorflow as tf\n",
        "from tensorflow.keras.layers import Conv2D, MaxPooling2D, UpSampling2D, Flatten, Dense, Input\n",
        "from tensorflow.keras.models import Model, Sequential\n",
        "from tensorflow.keras.preprocessing.image import ImageDataGenerator\n",
        "import os\n",
        "\n",
        "\n",
        "input_shape = (64, 64, 3)\n",
        "batch_size = 32\n",
        "epochs = 50     # try this with 50 as we dont have support in our laptops\n",
        "\n",
        "# Define the autoencoder model\n",
        "def build_autoencoder(input_shape):\n",
        "    input_img = Input(shape=input_shape)\n",
        "    # Encoder\n",
        "    x = Conv2D(16, (3, 3), activation='relu', padding='same')(input_img)\n",
        "    x = MaxPooling2D((2, 2), padding='same')(x)\n",
        "    x = Conv2D(8, (3, 3), activation='relu', padding='same')(x)\n",
        "    x = MaxPooling2D((2, 2), padding='same')(x)\n",
        "    x = Conv2D(8, (3, 3), activation='relu', padding='same')(x)\n",
        "    encoded = MaxPooling2D((2, 2), padding='same')(x)\n",
        "\n",
        "    # Decoder\n",
        "    x = Conv2D(8, (3, 3), activation='relu', padding='same')(encoded)\n",
        "    x = UpSampling2D((2, 2))(x)\n",
        "    x = Conv2D(8, (3, 3), activation='relu', padding='same')(x)\n",
        "    x = UpSampling2D((2, 2))(x)\n",
        "    x = Conv2D(16, (3, 3), activation='relu', padding='same')(x)\n",
        "    x = UpSampling2D((2, 2))(x)\n",
        "    decoded = Conv2D(3, (3, 3), activation='sigmoid', padding='same')(x)\n",
        "\n",
        "    # Autoencoder model\n",
        "    autoencoder = Model(input_img, decoded)\n",
        "    autoencoder.compile(optimizer='adam', loss='binary_crossentropy')\n",
        "\n",
        "    return autoencoder\n",
        "\n",
        "autoencoder = build_autoencoder(input_shape)\n",
        "\n",
        "# Prepare data\n",
        "image_directory = '/content/drive/MyDrive/images_kaggle'\n",
        "\n",
        "datagen = ImageDataGenerator(rescale=1. / 255, validation_split=0.2)\n",
        "\n",
        "train_generator = datagen.flow_from_directory(\n",
        "    image_directory,\n",
        "    target_size=input_shape[:2],\n",
        "    batch_size=batch_size,\n",
        "    class_mode='input',\n",
        "    subset='training'\n",
        ")\n",
        "\n",
        "validation_generator = datagen.flow_from_directory(\n",
        "    image_directory,\n",
        "    target_size=input_shape[:2],\n",
        "    batch_size=batch_size,\n",
        "    class_mode='input',\n",
        "    subset='validation'\n",
        ")\n",
        "\n",
        "# Train the autoencoder\n",
        "autoencoder.fit(\n",
        "    train_generator,\n",
        "    steps_per_epoch=train_generator.samples // batch_size,\n",
        "    epochs=epochs,\n",
        "    validation_data=validation_generator,\n",
        "    validation_steps=validation_generator.samples // batch_size\n",
        ")\n",
        "\n",
        "# Building a classifier using the trained encoder\n",
        "def build_classifier(autoencoder, input_shape):\n",
        "    # Extract the encoder\n",
        "    encoder = Model(inputs=autoencoder.input, outputs=autoencoder.get_layer(index=5).output)  # Adjust the index as per your encoder layers\n",
        "\n",
        "    for layer in encoder.layers:\n",
        "        layer.trainable = False\n",
        "\n",
        "    model = Sequential()\n",
        "    model.add(encoder)\n",
        "    model.add(Flatten())\n",
        "    model.add(Dense(64, activation='relu'))\n",
        "    model.add(Dense(1, activation='sigmoid'))\n",
        "\n",
        "    return model\n",
        "\n",
        "classifier = build_classifier(autoencoder, input_shape)\n",
        "classifier.compile(optimizer='adam', loss='binary_crossentropy', metrics=['accuracy'])\n",
        "\n",
        "# Prepare data again for classification\n",
        "datagen = ImageDataGenerator(rescale=1. / 255, validation_split=0.2)\n",
        "\n",
        "train_generator = datagen.flow_from_directory(\n",
        "    image_directory,\n",
        "    target_size=input_shape[:2],\n",
        "    batch_size=batch_size,\n",
        "    class_mode='binary',\n",
        "    subset='training'\n",
        ")\n",
        "\n",
        "validation_generator = datagen.flow_from_directory(\n",
        "    image_directory,\n",
        "    target_size=input_shape[:2],\n",
        "    batch_size=batch_size,\n",
        "    class_mode='binary',\n",
        "    subset='validation'\n",
        ")\n",
        "\n",
        "# Train the classifier\n",
        "classifier.fit(\n",
        "    train_generator,\n",
        "    steps_per_epoch=train_generator.samples // batch_size,\n",
        "    epochs=epochs,\n",
        "    validation_data=validation_generator,\n",
        "    validation_steps=validation_generator.samples // batch_size\n",
        ")\n",
        "\n"
      ],
      "metadata": {
        "colab": {
          "base_uri": "https://localhost:8080/",
          "height": 0
        },
        "id": "OuE3NisH2RuZ",
        "outputId": "4f10c4a4-65af-432a-f652-29eb58c388d5"
      },
      "execution_count": 6,
      "outputs": [
        {
          "output_type": "stream",
          "name": "stdout",
          "text": [
            "Found 1992 images belonging to 3 classes.\n",
            "Found 498 images belonging to 3 classes.\n",
            "Epoch 1/5\n",
            "62/62 [==============================] - 74s 1s/step - loss: 0.6366 - val_loss: 0.5316\n",
            "Epoch 2/5\n",
            "62/62 [==============================] - 66s 1s/step - loss: 0.5545 - val_loss: 0.4994\n",
            "Epoch 3/5\n",
            "62/62 [==============================] - 66s 1s/step - loss: 0.5453 - val_loss: 0.4894\n",
            "Epoch 4/5\n",
            "62/62 [==============================] - 60s 969ms/step - loss: 0.5403 - val_loss: 0.4859\n",
            "Epoch 5/5\n",
            "62/62 [==============================] - 66s 1s/step - loss: 0.5364 - val_loss: 0.4775\n",
            "Found 1992 images belonging to 3 classes.\n",
            "Found 498 images belonging to 3 classes.\n",
            "Epoch 1/5\n",
            "62/62 [==============================] - 58s 929ms/step - loss: -51.9088 - accuracy: 0.4980 - val_loss: -146.4931 - val_accuracy: 0.5000\n",
            "Epoch 2/5\n",
            "62/62 [==============================] - 51s 828ms/step - loss: -254.4278 - accuracy: 0.4995 - val_loss: -484.7095 - val_accuracy: 0.4917\n",
            "Epoch 3/5\n",
            "62/62 [==============================] - 78s 1s/step - loss: -634.9720 - accuracy: 0.4995 - val_loss: -1023.9310 - val_accuracy: 0.4979\n",
            "Epoch 4/5\n",
            "62/62 [==============================] - 59s 953ms/step - loss: -1206.1945 - accuracy: 0.4985 - val_loss: -1764.6821 - val_accuracy: 0.5021\n",
            "Epoch 5/5\n",
            "62/62 [==============================] - 52s 844ms/step - loss: -1961.6257 - accuracy: 0.4980 - val_loss: -2764.6641 - val_accuracy: 0.5000\n"
          ]
        },
        {
          "output_type": "execute_result",
          "data": {
            "text/plain": [
              "<keras.src.callbacks.History at 0x7ad16ba69180>"
            ]
          },
          "metadata": {},
          "execution_count": 6
        }
      ]
    },
    {
      "cell_type": "markdown",
      "source": [
        "# **Saving the Model**"
      ],
      "metadata": {
        "id": "6qf_Ovgl-lY7"
      }
    },
    {
      "cell_type": "code",
      "source": [
        "autoencoder.save('autoencoder_model.h5')\n",
        "classifier.save('classifier_model.h5')\n"
      ],
      "metadata": {
        "colab": {
          "base_uri": "https://localhost:8080/",
          "height": 0
        },
        "id": "kV7m7mNM2X6z",
        "outputId": "0ba3070e-c12c-4182-dafe-73ab9d6b0b94"
      },
      "execution_count": 7,
      "outputs": [
        {
          "output_type": "stream",
          "name": "stderr",
          "text": [
            "/usr/local/lib/python3.10/dist-packages/keras/src/engine/training.py:3103: UserWarning: You are saving your model as an HDF5 file via `model.save()`. This file format is considered legacy. We recommend using instead the native Keras format, e.g. `model.save('my_model.keras')`.\n",
            "  saving_api.save_model(\n"
          ]
        }
      ]
    },
    {
      "cell_type": "markdown",
      "source": [
        "# **Image Reconstruction and Pixelation Classification using Autoencoder and Classifier Models**"
      ],
      "metadata": {
        "id": "XaVPd0yK-ySo"
      }
    },
    {
      "cell_type": "code",
      "source": [
        "\n",
        "import tensorflow as tf\n",
        "from tensorflow.keras.models import load_model\n",
        "import numpy as np\n",
        "import cv2\n",
        "import matplotlib.pyplot as plt\n",
        "\n",
        "# Load the trained autoencoder and classifier models\n",
        "autoencoder = load_model('autoencoder_model.h5')\n",
        "classifier = load_model('classifier_model.h5')\n",
        "\n",
        "# Load a single input image for testing\n",
        "image_path = '/content/drive/MyDrive/images_kaggle/Original-1245/105.png'  # Replace with your image path\n",
        "input_image = cv2.imread(image_path)\n",
        "input_image = cv2.resize(input_image, (64, 64))  # Resize the image to match the input shape of the models\n",
        "input_image_normalized = input_image / 255.0  # Normalize the image for the model\n",
        "input_image_normalized = np.expand_dims(input_image_normalized, axis=0)  # Add batch dimension\n",
        "\n",
        "# Test the autoencoder with the input image\n",
        "reconstructed_image = autoencoder.predict(input_image_normalized)\n",
        "\n",
        "# Test the classifier with the input image through the entire autoencoder\n",
        "prediction = classifier.predict(input_image_normalized)\n",
        "\n",
        "# Display the results\n",
        "plt.figure(figsize=(12, 6))\n",
        "\n",
        "# Original Image\n",
        "plt.subplot(1, 3, 1)\n",
        "plt.title('Original Image')\n",
        "# Convert the original image (not the normalized one) to RGB for display\n",
        "plt.imshow(cv2.cvtColor(input_image, cv2.COLOR_BGR2RGB))\n",
        "plt.axis('off')\n",
        "\n",
        "# Reconstructed Image\n",
        "plt.subplot(1, 3, 2)\n",
        "plt.title('Reconstructed Image (Autoencoder)')\n",
        "# The reconstructed image is already normalized, so no conversion needed\n",
        "plt.imshow(reconstructed_image[0])\n",
        "plt.axis('off')\n",
        "\n",
        "# Classification Result\n",
        "plt.subplot(1, 3, 3)\n",
        "plt.title('Classification: {:.2f}% Pixelated'.format(prediction[0][0] * 100))\n",
        "plt.bar(['Non-Pixelated', 'Pixelated'], [1 - prediction[0][0], prediction[0][0]], color=['green', 'red'])\n",
        "plt.ylim(0, 1)\n",
        "\n",
        "plt.show()"
      ],
      "metadata": {
        "colab": {
          "base_uri": "https://localhost:8080/",
          "height": 652
        },
        "id": "tgJSKEVN2dVk",
        "outputId": "4aa03f79-f913-4197-f791-51d3c2b0b4a4"
      },
      "execution_count": 8,
      "outputs": [
        {
          "output_type": "stream",
          "name": "stderr",
          "text": [
            "WARNING:tensorflow:Error in loading the saved optimizer state. As a result, your model is starting with a freshly initialized optimizer.\n",
            "WARNING:tensorflow:5 out of the last 5 calls to <function Model.make_predict_function.<locals>.predict_function at 0x7ad16b849090> triggered tf.function retracing. Tracing is expensive and the excessive number of tracings could be due to (1) creating @tf.function repeatedly in a loop, (2) passing tensors with different shapes, (3) passing Python objects instead of tensors. For (1), please define your @tf.function outside of the loop. For (2), @tf.function has reduce_retracing=True option that can avoid unnecessary retracing. For (3), please refer to https://www.tensorflow.org/guide/function#controlling_retracing and https://www.tensorflow.org/api_docs/python/tf/function for  more details.\n"
          ]
        },
        {
          "output_type": "stream",
          "name": "stdout",
          "text": [
            "1/1 [==============================] - 0s 128ms/step\n"
          ]
        },
        {
          "output_type": "stream",
          "name": "stderr",
          "text": [
            "WARNING:tensorflow:6 out of the last 6 calls to <function Model.make_predict_function.<locals>.predict_function at 0x7ad16b849870> triggered tf.function retracing. Tracing is expensive and the excessive number of tracings could be due to (1) creating @tf.function repeatedly in a loop, (2) passing tensors with different shapes, (3) passing Python objects instead of tensors. For (1), please define your @tf.function outside of the loop. For (2), @tf.function has reduce_retracing=True option that can avoid unnecessary retracing. For (3), please refer to https://www.tensorflow.org/guide/function#controlling_retracing and https://www.tensorflow.org/api_docs/python/tf/function for  more details.\n"
          ]
        },
        {
          "output_type": "stream",
          "name": "stdout",
          "text": [
            "1/1 [==============================] - 0s 94ms/step\n"
          ]
        },
        {
          "output_type": "display_data",
          "data": {
            "text/plain": [
              "<Figure size 1200x600 with 3 Axes>"
            ],
            "image/png": "[encoded data removed]"
          },
          "metadata": {}
        }
      ]
    },
    {
      "cell_type": "markdown",
      "source": [
        "# **Evaluation of Pixelation Classification Performance Using F1 Score and Accuracy**"
      ],
      "metadata": {
        "id": "dkE23NOI-5sQ"
      }
    },
    {
      "cell_type": "code",
      "source": [
        "from sklearn.metrics import f1_score, accuracy_score\n",
        "import numpy as np\n",
        "\n",
        "# Ensure the generator is reset before starting\n",
        "validation_generator.reset()\n",
        "\n",
        "# Generate predictions for the validation dataset\n",
        "validation_steps = validation_generator.samples // batch_size\n",
        "y_true = []\n",
        "y_pred = []\n",
        "\n",
        "for _ in range(validation_steps):\n",
        "    x_val, y_val = next(validation_generator)\n",
        "    y_true.extend(y_val)\n",
        "    predictions = classifier.predict(x_val)\n",
        "    y_pred.extend(predictions)\n",
        "\n",
        "# Convert predictions to binary values (0 or 1)\n",
        "y_pred_binary = [1 if pred > 0.5 else 0 for pred in y_pred]\n",
        "\n",
        "# Calculate F1 score\n",
        "f1 = f1_score(y_true, y_pred_binary)\n",
        "accuracy = accuracy_score(y_true, y_pred_binary)\n",
        "\n",
        "print(f'Accuracy: {accuracy:.4f}')\n",
        "print(f'F1 Score: {f1:.4f}')\n"
      ],
      "metadata": {
        "colab": {
          "base_uri": "https://localhost:8080/",
          "height": 0
        },
        "id": "KIWIZb2L4lbu",
        "outputId": "be4aca3c-f457-4fe7-e506-a4e0afd01d53"
      },
      "execution_count": 9,
      "outputs": [
        {
          "output_type": "stream",
          "name": "stdout",
          "text": [
            "1/1 [==============================] - 0s 44ms/step\n",
            "1/1 [==============================] - 0s 46ms/step\n",
            "1/1 [==============================] - 0s 43ms/step\n",
            "1/1 [==============================] - 0s 43ms/step\n",
            "1/1 [==============================] - 0s 74ms/step\n",
            "1/1 [==============================] - 0s 71ms/step\n",
            "1/1 [==============================] - 0s 75ms/step\n",
            "1/1 [==============================] - 0s 76ms/step\n",
            "1/1 [==============================] - 0s 63ms/step\n",
            "1/1 [==============================] - 0s 42ms/step\n",
            "1/1 [==============================] - 0s 50ms/step\n",
            "1/1 [==============================] - 0s 42ms/step\n",
            "1/1 [==============================] - 0s 53ms/step\n",
            "1/1 [==============================] - 0s 54ms/step\n",
            "1/1 [==============================] - 0s 42ms/step\n",
            "Accuracy: 0.5062\n",
            "F1 Score: 0.6722\n"
          ]
        }
      ]
    },
    {
      "cell_type": "markdown",
      "source": [
        "# **Assessing Model Sizes: Autoencoder and Classifier Model Sizes in Megabytes**"
      ],
      "metadata": {
        "id": "pfnBvQF3-_MF"
      }
    },
    {
      "cell_type": "code",
      "source": [
        "import os\n",
        "\n",
        "def get_model_size(model_path):\n",
        "    model_size_bytes = os.path.getsize(model_path)\n",
        "    model_size_mb = model_size_bytes / (1024 * 1024)  # Convert bytes to megabytes\n",
        "    return model_size_mb\n",
        "\n",
        "autoencoder_model_path = 'autoencoder_model.h5'\n",
        "classifier_model_path = 'classifier_model.h5'\n",
        "\n",
        "autoencoder_size_mb = get_model_size(autoencoder_model_path)\n",
        "classifier_size_mb = get_model_size(classifier_model_path)\n",
        "\n",
        "print(f'Autoencoder model size: {autoencoder_size_mb:.2f} MB')\n",
        "print(f'Classifier model size: {classifier_size_mb:.2f} MB')\n"
      ],
      "metadata": {
        "colab": {
          "base_uri": "https://localhost:8080/",
          "height": 0
        },
        "id": "UfxPtHmL4n-M",
        "outputId": "fe94098c-5952-4d3d-d4e6-7adfc47f67d9"
      },
      "execution_count": 10,
      "outputs": [
        {
          "output_type": "stream",
          "name": "stdout",
          "text": [
            "Autoencoder model size: 0.12 MB\n",
            "Classifier model size: 1.54 MB\n"
          ]
        }
      ]
    },
    {
      "cell_type": "markdown",
      "source": [
        "# **Pixelated Image Upscaling with the Ersan Algorithm**"
      ],
      "metadata": {
        "id": "C1byoGqq_F5W"
      }
    },
    {
      "cell_type": "code",
      "source": [
        "import cv2\n",
        "import numpy as np\n",
        "import matplotlib.pyplot as plt\n",
        "\n",
        "def ersan_upscale(image, scale_factor):\n",
        "    \"\"\"\n",
        "    Upscale a pixelated image using the Ersan algorithm.\n",
        "\n",
        "    Args:\n",
        "        image (numpy.ndarray): The input pixelated image.\n",
        "        scale_factor (int): The scale factor for upscaling the image.\n",
        "\n",
        "    Returns:\n",
        "        numpy.ndarray: The upscaled, non-pixelated image.\n",
        "    \"\"\"\n",
        "    height, width, _ = image.shape\n",
        "    new_height, new_width = height * scale_factor, width * scale_factor\n",
        "\n",
        "    # Create a new image with the desired size\n",
        "    upscaled_image = np.zeros((new_height, new_width, 3), dtype=np.uint8)\n",
        "\n",
        "    # Perform the Ersan upscaling algorithm\n",
        "    for y in range(new_height):\n",
        "        for x in range(new_width):\n",
        "            # Calculate the corresponding pixel in the original image\n",
        "            orig_x = x // scale_factor\n",
        "            orig_y = y // scale_factor\n",
        "\n",
        "            # Get the color values of the surrounding pixels in the original image\n",
        "            top_left = image[orig_y, orig_x]\n",
        "            top_right = image[orig_y, min(orig_x + 1, width - 1)]\n",
        "            bottom_left = image[min(orig_y + 1, height - 1), orig_x]\n",
        "            bottom_right = image[min(orig_y + 1, height - 1), min(orig_x + 1, width - 1)]\n",
        "\n",
        "            # Interpolate the color values using the Ersan algorithm\n",
        "            r = (top_left[0] * (scale_factor - x % scale_factor) * (scale_factor - y % scale_factor) +\n",
        "                 top_right[0] * (x % scale_factor) * (scale_factor - y % scale_factor) +\n",
        "                 bottom_left[0] * (scale_factor - x % scale_factor) * (y % scale_factor) +\n",
        "                 bottom_right[0] * (x % scale_factor) * (y % scale_factor)) // (scale_factor * scale_factor)\n",
        "            g = (top_left[1] * (scale_factor - x % scale_factor) * (scale_factor - y % scale_factor) +\n",
        "                 top_right[1] * (x % scale_factor) * (scale_factor - y % scale_factor) +\n",
        "                 bottom_left[1] * (scale_factor - x % scale_factor) * (y % scale_factor) +\n",
        "                 bottom_right[1] * (x % scale_factor) * (y % scale_factor)) // (scale_factor * scale_factor)\n",
        "            b = (top_left[2] * (scale_factor - x % scale_factor) * (scale_factor - y % scale_factor) +\n",
        "                 top_right[2] * (x % scale_factor) * (scale_factor - y % scale_factor) +\n",
        "                 bottom_left[2] * (scale_factor - x % scale_factor) * (y % scale_factor) +\n",
        "                 bottom_right[2] * (x % scale_factor) * (y % scale_factor)) // (scale_factor * scale_factor)\n",
        "\n",
        "            upscaled_image[y, x] = (r, g, b)\n",
        "\n",
        "    return upscaled_image\n",
        "\n",
        "# Load the pixelated image\n",
        "image_path = '/content/drive/MyDrive/images_kaggle/Original-1245/105.png'\n",
        "pixelated_image = cv2.imread(image_path)\n",
        "\n",
        "if pixelated_image is None:\n",
        "    raise FileNotFoundError(f\"Cannot open/read file: {image_path}. Please check the file path/integrity.\")\n",
        "\n",
        "# Upscale the image using the Ersan algorithm\n",
        "scale_factor = 2\n",
        "upscaled_image = ersan_upscale(pixelated_image, scale_factor)\n",
        "\n",
        "# Display the upscaled image using matplotlib\n",
        "plt.imshow(cv2.cvtColor(upscaled_image, cv2.COLOR_BGR2RGB))\n",
        "plt.title('Upscaled Image')\n",
        "plt.axis('off')  # Hide axis\n",
        "plt.show()\n"
      ],
      "metadata": {
        "colab": {
          "base_uri": "https://localhost:8080/",
          "height": 338
        },
        "id": "nGD3BMzv4qWY",
        "outputId": "03385106-8e6a-4e44-f4c7-f5d6d52d2652"
      },
      "execution_count": 1,
      "outputs": [
        {
          "output_type": "display_data",
          "data": {
            "text/plain": [
              "<Figure size 640x480 with 1 Axes>"
            ],
            "image/png": "[encoded data removed]"
          },
          "metadata": {}
        }
      ]
    },
    {
      "cell_type": "markdown",
      "source": [
        "# **Saving the upsacalled image in directory**"
      ],
      "metadata": {
        "id": "Cx7FjXs3_Jmt"
      }
    },
    {
      "cell_type": "code",
      "source": [
        "# Save the upscaled image\n",
        "output_image_path = '/content/drive/MyDrive/images_kaggle/Upscaled-105.png'\n",
        "cv2.imwrite(output_image_path, cv2.cvtColor(upscaled_image, cv2.COLOR_BGR2RGB))\n",
        "print(f\"Upscaled image saved at: {output_image_path}\")"
      ],
      "metadata": {
        "colab": {
          "base_uri": "https://localhost:8080/",
          "height": 0
        },
        "id": "Vr2n95147RH8",
        "outputId": "70e252f8-ae07-4529-8edb-98e1c0ae68af"
      },
      "execution_count": 2,
      "outputs": [
        {
          "output_type": "stream",
          "name": "stdout",
          "text": [
            "Upscaled image saved at: /content/drive/MyDrive/images_kaggle/Upscaled-105.png\n"
          ]
        }
      ]
    },
    {
      "cell_type": "markdown",
      "source": [
        "# **PSNR Evaluation for Original and Reconstructed Images After Upscaling**"
      ],
      "metadata": {
        "id": "wT72t1Vi_SeG"
      }
    },
    {
      "cell_type": "code",
      "source": [
        "import cv2\n",
        "from skimage.metrics import peak_signal_noise_ratio as psnr\n",
        "\n",
        "def calculate_psnr(image1, image2):\n",
        "    # Ensure the images have the same shape\n",
        "    assert image1.shape == image2.shape, \"(1080,1920)\"\n",
        "\n",
        "    # Calculate PSNR\n",
        "    psnr_value = psnr(image1, image2)\n",
        "    return psnr_value\n",
        "\n",
        "def check_and_calculate_psnr(original_image_path, reconstructed_image_path, target_shape=(1080, 1920)):\n",
        "    # Load images\n",
        "    original_image = cv2.imread(original_image_path)\n",
        "    reconstructed_image = cv2.imread(reconstructed_image_path)\n",
        "\n",
        "    # Check if either image is None (i.e., failed to load)\n",
        "    if original_image is None:\n",
        "        raise FileNotFoundError(f\"Cannot open/read file: {original_image_path}. Please check the file path/integrity.\")\n",
        "    if reconstructed_image is None:\n",
        "        raise FileNotFoundError(f\"Cannot open/read file: {reconstructed_image_path}. Please check the file path/integrity.\")\n",
        "\n",
        "    # Resize both images to the target shape\n",
        "    original_image_resized = cv2.resize(original_image, target_shape)\n",
        "    reconstructed_image_resized = cv2.resize(reconstructed_image, target_shape)\n",
        "\n",
        "    # Ensure the images have the same shape\n",
        "    if original_image_resized.shape != reconstructed_image_resized.shape:\n",
        "        raise ValueError(\"The resized images do not have the same dimensions.\")\n",
        "\n",
        "    # Calculate PSNR\n",
        "    psnr_value = calculate_psnr(original_image_resized, reconstructed_image_resized)\n",
        "\n",
        "    print(f\"PSNR value: {psnr_value} dB\")\n",
        "    return psnr_value  # Optional: return PSNR value for further use\n",
        "\n",
        "# Example usage\n",
        "original_image_path = '/content/drive/MyDrive/images_kaggle/Original-1245/105.png'\n",
        "reconstructed_image_path = '/content/drive/MyDrive/images_kaggle/Upscaled-105.png'\n",
        "\n",
        "psnr_value = check_and_calculate_psnr(original_image_path, reconstructed_image_path)\n"
      ],
      "metadata": {
        "colab": {
          "base_uri": "https://localhost:8080/",
          "height": 0
        },
        "id": "SVwAO9mk4tfI",
        "outputId": "ce780a84-b528-45b0-aeb2-9c49977c1826"
      },
      "execution_count": 3,
      "outputs": [
        {
          "output_type": "stream",
          "name": "stdout",
          "text": [
            "PSNR value: 10.112909317947372 dB\n"
          ]
        }
      ]
    },
    {
      "cell_type": "markdown",
      "source": [
        "# **Structural Similarity Index (SSIM) Comparison Between Original and Reconstructed Images**"
      ],
      "metadata": {
        "id": "v5_uSIcr_ag8"
      }
    },
    {
      "cell_type": "code",
      "source": [
        "from skimage import io\n",
        "from skimage.metrics import structural_similarity as ssim\n",
        "import cv2\n",
        "\n",
        "# Load the images\n",
        "original_image = io.imread('/content/drive/MyDrive/images_kaggle/Original-1245/105.png')\n",
        "reconstructed_image = io.imread('/content/drive/MyDrive/images_kaggle/Upscaled-105.png')\n",
        "\n",
        "# Ensure both images have the same number of color channels (3 for RGB)\n",
        "if original_image.shape[2] == 4:  # Check if original image has an alpha channel\n",
        "    original_image = cv2.cvtColor(original_image, cv2.COLOR_RGBA2RGB)  # Convert to RGB\n",
        "\n",
        "# Resize the reconstructed image to match the original image's dimensions\n",
        "reconstructed_image = cv2.resize(reconstructed_image, (original_image.shape[1], original_image.shape[0]))\n",
        "\n",
        "# Compute SSIM\n",
        "ssim_value = ssim(original_image, reconstructed_image, multichannel=True)\n",
        "\n",
        "print(f\"SSIM value: {ssim_value}\")"
      ],
      "metadata": {
        "colab": {
          "base_uri": "https://localhost:8080/",
          "height": 0
        },
        "id": "TWfl0yJC6J1-",
        "outputId": "d1f5aac8-edc0-4aef-b93f-f3f27f657160"
      },
      "execution_count": 6,
      "outputs": [
        {
          "output_type": "stream",
          "name": "stderr",
          "text": [
            "<ipython-input-6-2c7c4d5416a1>:17: FutureWarning: `multichannel` is a deprecated argument name for `structural_similarity`. It will be removed in version 1.0. Please use `channel_axis` instead.\n",
            "  ssim_value = ssim(original_image, reconstructed_image, multichannel=True)\n"
          ]
        },
        {
          "output_type": "stream",
          "name": "stdout",
          "text": [
            "SSIM value: 0.8778566624114926\n"
          ]
        }
      ]
    },
    {
      "cell_type": "code",
      "source": [
        "!pip install lpips"
      ],
      "metadata": {
        "colab": {
          "base_uri": "https://localhost:8080/",
          "height": 0
        },
        "id": "QQCNh81H9Z7n",
        "outputId": "f42910e9-6c7f-4a0e-a8d5-260b192eaad1"
      },
      "execution_count": 8,
      "outputs": [
        {
          "output_type": "stream",
          "name": "stdout",
          "text": [
            "Collecting lpips\n",
            "  Downloading lpips-0.1.4-py3-none-any.whl (53 kB)\n",
            "\u001b[2K     \u001b[90m━━━━━━━━━━━━━━━━━━━━━━━━━━━━━━━━━━━━━━━━\u001b[0m \u001b[32m53.8/53.8 kB\u001b[0m \u001b[31m926.7 kB/s\u001b[0m eta \u001b[36m0:00:00\u001b[0m\n",
            "\u001b[?25hRequirement already satisfied: torch>=0.4.0 in /usr/local/lib/python3.10/dist-packages (from lpips) (2.3.0+cu121)\n",
            "Requirement already satisfied: torchvision>=0.2.1 in /usr/local/lib/python3.10/dist-packages (from lpips) (0.18.0+cu121)\n",
            "Requirement already satisfied: numpy>=1.14.3 in /usr/local/lib/python3.10/dist-packages (from lpips) (1.25.2)\n",
            "Requirement already satisfied: scipy>=1.0.1 in /usr/local/lib/python3.10/dist-packages (from lpips) (1.11.4)\n",
            "Requirement already satisfied: tqdm>=4.28.1 in /usr/local/lib/python3.10/dist-packages (from lpips) (4.66.4)\n",
            "Requirement already satisfied: filelock in /usr/local/lib/python3.10/dist-packages (from torch>=0.4.0->lpips) (3.15.4)\n",
            "Requirement already satisfied: typing-extensions>=4.8.0 in /usr/local/lib/python3.10/dist-packages (from torch>=0.4.0->lpips) (4.12.2)\n",
            "Requirement already satisfied: sympy in /usr/local/lib/python3.10/dist-packages (from torch>=0.4.0->lpips) (1.13.0)\n",
            "Requirement already satisfied: networkx in /usr/local/lib/python3.10/dist-packages (from torch>=0.4.0->lpips) (3.3)\n",
            "Requirement already satisfied: jinja2 in /usr/local/lib/python3.10/dist-packages (from torch>=0.4.0->lpips) (3.1.4)\n",
            "Requirement already satisfied: fsspec in /usr/local/lib/python3.10/dist-packages (from torch>=0.4.0->lpips) (2023.6.0)\n",
            "Collecting nvidia-cuda-nvrtc-cu12==12.1.105 (from torch>=0.4.0->lpips)\n",
            "  Using cached nvidia_cuda_nvrtc_cu12-12.1.105-py3-none-manylinux1_x86_64.whl (23.7 MB)\n",
            "Collecting nvidia-cuda-runtime-cu12==12.1.105 (from torch>=0.4.0->lpips)\n",
            "  Using cached nvidia_cuda_runtime_cu12-12.1.105-py3-none-manylinux1_x86_64.whl (823 kB)\n",
            "Collecting nvidia-cuda-cupti-cu12==12.1.105 (from torch>=0.4.0->lpips)\n",
            "  Using cached nvidia_cuda_cupti_cu12-12.1.105-py3-none-manylinux1_x86_64.whl (14.1 MB)\n",
            "Collecting nvidia-cudnn-cu12==8.9.2.26 (from torch>=0.4.0->lpips)\n",
            "  Using cached nvidia_cudnn_cu12-8.9.2.26-py3-none-manylinux1_x86_64.whl (731.7 MB)\n",
            "Collecting nvidia-cublas-cu12==12.1.3.1 (from torch>=0.4.0->lpips)\n",
            "  Using cached nvidia_cublas_cu12-12.1.3.1-py3-none-manylinux1_x86_64.whl (410.6 MB)\n",
            "Collecting nvidia-cufft-cu12==11.0.2.54 (from torch>=0.4.0->lpips)\n",
            "  Using cached nvidia_cufft_cu12-11.0.2.54-py3-none-manylinux1_x86_64.whl (121.6 MB)\n",
            "Collecting nvidia-curand-cu12==10.3.2.106 (from torch>=0.4.0->lpips)\n",
            "  Using cached nvidia_curand_cu12-10.3.2.106-py3-none-manylinux1_x86_64.whl (56.5 MB)\n",
            "Collecting nvidia-cusolver-cu12==11.4.5.107 (from torch>=0.4.0->lpips)\n",
            "  Using cached nvidia_cusolver_cu12-11.4.5.107-py3-none-manylinux1_x86_64.whl (124.2 MB)\n",
            "Collecting nvidia-cusparse-cu12==12.1.0.106 (from torch>=0.4.0->lpips)\n",
            "  Using cached nvidia_cusparse_cu12-12.1.0.106-py3-none-manylinux1_x86_64.whl (196.0 MB)\n",
            "Collecting nvidia-nccl-cu12==2.20.5 (from torch>=0.4.0->lpips)\n",
            "  Using cached nvidia_nccl_cu12-2.20.5-py3-none-manylinux2014_x86_64.whl (176.2 MB)\n",
            "Collecting nvidia-nvtx-cu12==12.1.105 (from torch>=0.4.0->lpips)\n",
            "  Using cached nvidia_nvtx_cu12-12.1.105-py3-none-manylinux1_x86_64.whl (99 kB)\n",
            "Requirement already satisfied: triton==2.3.0 in /usr/local/lib/python3.10/dist-packages (from torch>=0.4.0->lpips) (2.3.0)\n",
            "Collecting nvidia-nvjitlink-cu12 (from nvidia-cusolver-cu12==11.4.5.107->torch>=0.4.0->lpips)\n",
            "  Downloading nvidia_nvjitlink_cu12-12.5.82-py3-none-manylinux2014_x86_64.whl (21.3 MB)\n",
            "\u001b[2K     \u001b[90m━━━━━━━━━━━━━━━━━━━━━━━━━━━━━━━━━━━━━━━━\u001b[0m \u001b[32m21.3/21.3 MB\u001b[0m \u001b[31m56.7 MB/s\u001b[0m eta \u001b[36m0:00:00\u001b[0m\n",
            "\u001b[?25hRequirement already satisfied: pillow!=8.3.*,>=5.3.0 in /usr/local/lib/python3.10/dist-packages (from torchvision>=0.2.1->lpips) (9.4.0)\n",
            "Requirement already satisfied: MarkupSafe>=2.0 in /usr/local/lib/python3.10/dist-packages (from jinja2->torch>=0.4.0->lpips) (2.1.5)\n",
            "Requirement already satisfied: mpmath<1.4,>=1.1.0 in /usr/local/lib/python3.10/dist-packages (from sympy->torch>=0.4.0->lpips) (1.3.0)\n",
            "Installing collected packages: nvidia-nvtx-cu12, nvidia-nvjitlink-cu12, nvidia-nccl-cu12, nvidia-curand-cu12, nvidia-cufft-cu12, nvidia-cuda-runtime-cu12, nvidia-cuda-nvrtc-cu12, nvidia-cuda-cupti-cu12, nvidia-cublas-cu12, nvidia-cusparse-cu12, nvidia-cudnn-cu12, nvidia-cusolver-cu12, lpips\n",
            "Successfully installed lpips-0.1.4 nvidia-cublas-cu12-12.1.3.1 nvidia-cuda-cupti-cu12-12.1.105 nvidia-cuda-nvrtc-cu12-12.1.105 nvidia-cuda-runtime-cu12-12.1.105 nvidia-cudnn-cu12-8.9.2.26 nvidia-cufft-cu12-11.0.2.54 nvidia-curand-cu12-10.3.2.106 nvidia-cusolver-cu12-11.4.5.107 nvidia-cusparse-cu12-12.1.0.106 nvidia-nccl-cu12-2.20.5 nvidia-nvjitlink-cu12-12.5.82 nvidia-nvtx-cu12-12.1.105\n"
          ]
        }
      ]
    },
    {
      "cell_type": "markdown",
      "source": [
        "# **LPIPS Comparison Between Original and Resized Reconstructed Images**"
      ],
      "metadata": {
        "id": "_Dyng9R5_gzE"
      }
    },
    {
      "cell_type": "code",
      "source": [
        "import torch\n",
        "import lpips\n",
        "from PIL import Image\n",
        "import numpy as np\n",
        "\n",
        "# Load the images\n",
        "def load_image(path):\n",
        "    return Image.open(path).convert('RGB')\n",
        "\n",
        "def preprocess_image(img):\n",
        "    return (torch.tensor(np.array(img)).permute(2, 0, 1).unsqueeze(0) / 255.0 * 2 - 1).float()\n",
        "\n",
        "original_image_path = '/content/drive/MyDrive/images_kaggle/Original-1245/105.png'\n",
        "reconstructed_image_path = '/content/drive/MyDrive/images_kaggle/Upscaled-105.png'\n",
        "\n",
        "original_image = load_image(original_image_path)\n",
        "reconstructed_image = load_image(reconstructed_image_path)\n",
        "\n",
        "# Resize the reconstructed image to match the original image's dimensions\n",
        "reconstructed_image = reconstructed_image.resize(original_image.size)\n",
        "\n",
        "# Preprocess images after resizing\n",
        "original_image = preprocess_image(original_image)\n",
        "reconstructed_image = preprocess_image(reconstructed_image)\n",
        "\n",
        "# Initialize LPIPS model\n",
        "lpips_model = lpips.LPIPS(net='alex')  # You can also use 'vgg'\n",
        "\n",
        "# Compute LPIPS\n",
        "lpips_value = lpips_model(original_image, reconstructed_image)\n",
        "\n",
        "print(f\"LPIPS value: {lpips_value.item()}\")"
      ],
      "metadata": {
        "colab": {
          "base_uri": "https://localhost:8080/",
          "height": 0
        },
        "id": "fAMwEI5481Il",
        "outputId": "08721f04-be4d-4943-8770-62e568aaa7ae"
      },
      "execution_count": 10,
      "outputs": [
        {
          "output_type": "stream",
          "name": "stdout",
          "text": [
            "Setting up [LPIPS] perceptual loss: trunk [alex], v[0.1], spatial [off]\n"
          ]
        },
        {
          "output_type": "stream",
          "name": "stderr",
          "text": [
            "/usr/local/lib/python3.10/dist-packages/torchvision/models/_utils.py:208: UserWarning: The parameter 'pretrained' is deprecated since 0.13 and may be removed in the future, please use 'weights' instead.\n",
            "  warnings.warn(\n",
            "/usr/local/lib/python3.10/dist-packages/torchvision/models/_utils.py:223: UserWarning: Arguments other than a weight enum or `None` for 'weights' are deprecated since 0.13 and may be removed in the future. The current behavior is equivalent to passing `weights=AlexNet_Weights.IMAGENET1K_V1`. You can also use `weights=AlexNet_Weights.DEFAULT` to get the most up-to-date weights.\n",
            "  warnings.warn(msg)\n"
          ]
        },
        {
          "output_type": "stream",
          "name": "stdout",
          "text": [
            "Loading model from: /usr/local/lib/python3.10/dist-packages/lpips/weights/v0.1/alex.pth\n",
            "LPIPS value: 0.1520923376083374\n"
          ]
        }
      ]
    }
  ]
}